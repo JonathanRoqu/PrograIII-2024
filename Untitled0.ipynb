{
  "nbformat": 4,
  "nbformat_minor": 0,
  "metadata": {
    "colab": {
      "provenance": [],
      "authorship_tag": "ABX9TyPiF2KyC+V8kMx0e9Qs97Ij",
      "include_colab_link": true
    },
    "kernelspec": {
      "name": "python3",
      "display_name": "Python 3"
    },
    "language_info": {
      "name": "python"
    }
  },
  "cells": [
    {
      "cell_type": "markdown",
      "metadata": {
        "id": "view-in-github",
        "colab_type": "text"
      },
      "source": [
        "<a href=\"https://colab.research.google.com/github/JonathanRoqu/PrograIII-2024/blob/main/Untitled0.ipynb\" target=\"_parent\"><img src=\"https://colab.research.google.com/assets/colab-badge.svg\" alt=\"Open In Colab\"/></a>"
      ]
    },
    {
      "cell_type": "code",
      "source": [
        "def fahrenheit_to_celsius(fahrenheit):\n",
        " \"\"\"Convierte grados Fahrenheit a Celsius.\"\"\"\n",
        " celsius = (fahrenheit - 32) * 5.0/9.0\n",
        " return celsius\n",
        "\n",
        "try:\n",
        "  fahrenheit = float(input(\"Ingrese grados Fahrenheit: \"))\n",
        "  celsius = fahrenheit_to_celsius(fahrenheit)\n",
        "  print(f\"{fahrenheit} grados Fahrenheit son {celsius:.2f} grados Celsius.\")\n",
        "except ValueError:\n",
        "  print(\"Por favor, ingrese un valor numérico válido.\")"
      ],
      "metadata": {
        "id": "0OgfHmBMhudu",
        "colab": {
          "base_uri": "https://localhost:8080/"
        },
        "outputId": "ec9a5160-2756-410c-9ad7-106cafba9035"
      },
      "execution_count": null,
      "outputs": [
        {
          "output_type": "stream",
          "name": "stdout",
          "text": [
            "Ingrese grados Fahrenheit: 89\n",
            "89.0 grados Fahrenheit son 31.67 grados Celsius.\n"
          ]
        }
      ]
    },
    {
      "cell_type": "code",
      "source": [
        "def fahrenheit_to_kelvin(fahrenheit):\n",
        "  \"\"\"Convierte grados Fahrenheit a Kelvin.\"\"\"\n",
        "  kelvin =(fahrenheit  - 32) *5.0 +273.15\n",
        "  return kelvin\n",
        "\n",
        "try:\n",
        "    fahrenheit =float (input(\"Ingrese grados Fahrenheit:\"))\n",
        "    kelvin =fahrenheit_to_kelvin(fahrenheit)\n",
        "    print(f\"{fahrenheit} grados Fahrenheit son {kelvin:2f} grados Kelvin.\")\n",
        "except ValueError:\n",
        "      print(\"Por favor, ingrese un valor numèrico vàlido.\")\n",
        "\n",
        "def celsius_to_kelvin(Celsius):\n",
        "  \"\"\"Convierte grados Celsius a kelvin.\"\"\"\n",
        "  kelvin = celsius + 273.15\n",
        "  return kelvin\n",
        "\n",
        "try:\n",
        "    celsius = float(input(\"Ingrese grados celsius\"))\n",
        "    kelvin = celsius_to_kelvin(celsius)\n",
        "    print(f\"{celsius} grados celsius son {kelvin:.2f} grados kelvin.\")\n",
        "except ValueError:\n",
        "    print(\"por favor, ingrese un valor numèrico vàlido.\")"
      ],
      "metadata": {
        "id": "VIQUNmZFuWiu",
        "colab": {
          "base_uri": "https://localhost:8080/"
        },
        "outputId": "a053b563-40e6-46f5-bda8-ff2948bb2b9c"
      },
      "execution_count": null,
      "outputs": [
        {
          "output_type": "stream",
          "name": "stdout",
          "text": [
            "Ingrese grados Fahrenheit:34\n",
            "34.0 grados Fahrenheit son 283.150000 grados Kelvin.\n",
            "Ingrese grados celsius30\n",
            "30.0 grados celsius son 303.15 grados kelvin.\n"
          ]
        }
      ]
    },
    {
      "cell_type": "code",
      "source": [
        "edad= int(imput(\"Edad:\"))\n",
        "if edad<-2:\n",
        "  print(\"Eres un bebe\")\n",
        "elif edad<12:\n",
        "  print(\"Eres un niño\")\n",
        "elif edad<18:\n",
        "  print(\"Eres un adolescente\")\n",
        "elif edad<65:\n",
        "  print(\"Eres un adulto\")\n",
        "elif  edad<85:\n",
        "  print(\"Eres un adulto mayor\")\n",
        "else:\n",
        "  print(\"Larga vida\")\n",
        "\n"
      ],
      "metadata": {
        "collapsed": true,
        "id": "4UAIIweRZGrN"
      },
      "execution_count": null,
      "outputs": []
    },
    {
      "cell_type": "markdown",
      "source": [
        "TAREA:LABORATORIO PROGRA"
      ],
      "metadata": {
        "id": "k2MI9TgQeONK"
      }
    },
    {
      "cell_type": "code",
      "source": [
        "def calcular_deducciones(sueldo):\n",
        "    \" Calcular ISSS y AFP \"\n",
        "    isss = sueldo * 0.03\n",
        "    afp = sueldo * 0.0725\n",
        "\n",
        "    \" Calcular el sueldo después de deducir ISSS y AFP\"\n",
        "    resultado_de_la_resta_del_isss_afp_y_salario = sueldo - (isss + afp)\n",
        "\n",
        "    \" Determinar el tramo y calcular ISR según la tabla proporcionada \"\n",
        "    if resultado_de_la_resta_del_isss_afp_y_salario <= 472.00:\n",
        "        isr = 0  # 1er tramo sin retención\n",
        "    elif resultado_de_la_resta_del_isss_afp_y_salario <= 895.24:\n",
        "        exceso = resultado_de_la_resta_del_isss_afp_y_salario - 472.00\n",
        "        isr = exceso * 0.10 + 17.67  # 2do tramo\n",
        "    elif resultado_de_la_resta_del_isss_afp_y_salario <= 2038.10:\n",
        "        exceso = resultado_de_la_resta_del_isss_afp_y_salario - 895.24\n",
        "        isr = exceso * 0.20 + 60.00  # 3er tramo\n",
        "    else:\n",
        "        exceso = resultado_de_la_resta_del_isss_afp_y_salario - 2038.10\n",
        "        isr = exceso * 0.30 + 288.57  # 4to tramo\n",
        "\n",
        "    return isss, afp, isr\n",
        "\n",
        "sueldo = float(input(\"Introduce tu sueldo: \"))\n",
        "\n",
        "\"Calcular las deducciones\"\n",
        "isss, afp, isr = calcular_deducciones(sueldo)\n",
        "\n",
        "\"Calcular el total de deducciones\"\n",
        "total_deducciones = isss + afp + isr\n",
        "\n",
        "\"Calcular el sueldo neto\"\n",
        "sueldo_neto = sueldo - total_deducciones\n",
        "\n",
        "print(f\"Para un sueldo de ${sueldo:.2f}:\")\n",
        "print(f\"ISSS: ${isss:.2f}\")\n",
        "print(f\"AFP: ${afp:.2f}\")\n",
        "print(f\"ISR: ${isr:.2f}\")\n",
        "print(f\"Total deducciones: ${total_deducciones:.2f}\")\n",
        "print(f\"Sueldo neto: ${sueldo_neto:.2f}\")\n"
      ],
      "metadata": {
        "id": "1gGESrR9Eqhp",
        "colab": {
          "base_uri": "https://localhost:8080/"
        },
        "outputId": "329c6d89-7f41-4227-c109-c4d5e0b4202d"
      },
      "execution_count": null,
      "outputs": [
        {
          "output_type": "stream",
          "name": "stdout",
          "text": [
            "Introduce tu sueldo: 800\n",
            "Para un sueldo de $800.00:\n",
            "ISSS: $24.00\n",
            "AFP: $58.00\n",
            "ISR: $42.27\n",
            "Total deducciones: $124.27\n",
            "Sueldo neto: $675.73\n"
          ]
        }
      ]
    },
    {
      "cell_type": "code",
      "source": [
        "def calcular_pago_agua(metros_consumidos):\n",
        "    if metros_consumidos <= 18:\n",
        "        \"Cuota fija para consumo entre 1 y 18 metros cúbicos\"\n",
        "        total_a_pagar = 6.00\n",
        "    elif metros_consumidos <= 28:\n",
        "        \"Calcular el exceso para consumo entre 19 y 28 metros cúbicos\"\n",
        "        exceso = metros_consumidos - 18\n",
        "        total_a_pagar = 6.00 + (exceso * 0.45)\n",
        "    else:\n",
        "        \"Calcular el exceso para consumo de 29 metros cúbicos en adelante\"\n",
        "        exceso = metros_consumidos - 28\n",
        "        total_a_pagar = 6.00 + (10 * 0.45) + (exceso * 0.65)\n",
        "\n",
        "    return total_a_pagar\n",
        "\n",
        "metros_consumidos = float(input(\"Introduce los metros cúbicos consumidos: \"))\n",
        "total_a_pagar = calcular_pago_agua(metros_consumidos)\n",
        "\n",
        "print(f\"El total a pagar por {metros_consumidos} metros cúbicos es: ${total_a_pagar:.2f}\")\n"
      ],
      "metadata": {
        "colab": {
          "base_uri": "https://localhost:8080/"
        },
        "id": "4vQb9KTbDboC",
        "outputId": "96b4949a-1c40-492b-ea1c-8af28e5dbbc5"
      },
      "execution_count": null,
      "outputs": [
        {
          "output_type": "stream",
          "name": "stdout",
          "text": [
            "Introduce los metros cúbicos consumidos: 88\n",
            "El total a pagar por 88.0 metros cúbicos es: $49.50\n"
          ]
        }
      ]
    },
    {
      "cell_type": "code",
      "source": [
        "def suma_acumulada(n):\n",
        "    \" fórmula matemática \"\n",
        "    acumulacion = n * (n + 1) // 2\n",
        "    return acumulacion\n",
        "\n",
        "meses = int(input(\"\"\"Introduce el número de meses:\n",
        "\"\"\"))\n",
        "acumulacion_total = suma_acumulada(meses)\n",
        "\n",
        "print(f\"La acumulación total para {meses} meses es: {acumulacion_total}\")\n"
      ],
      "metadata": {
        "colab": {
          "base_uri": "https://localhost:8080/"
        },
        "id": "T1UQ3ynpWIES",
        "outputId": "ca891991-aab5-442d-f9b7-79323f58acbf"
      },
      "execution_count": null,
      "outputs": [
        {
          "output_type": "stream",
          "name": "stdout",
          "text": [
            "Introduce el número de meses:\n",
            "6\n",
            "La acumulación total para 6 meses es: 21\n"
          ]
        }
      ]
    },
    {
      "cell_type": "code",
      "source": [
        "def calcular_frecuencia(numeros):\n",
        "    frecuencia = {}\n",
        "    for numero in numeros:\n",
        "        if numero in frecuencia:\n",
        "            frecuencia[numero] += 1\n",
        "        else:\n",
        "            frecuencia[numero] = 1\n",
        "    return frecuencia\n",
        "\n",
        "def main():\n",
        "    numeros = input(\"Introduce una serie de numeros separados por espacios:\")\n",
        "    lista_numeros = list(map(int, numeros.split()))\n",
        "    frecuencia = calcular_frecuencia(lista_numeros)\n",
        "    print(\"Frecuencia de los numeros introducidos:\")\n",
        "    for numero, frecuencia in frecuencia.items():\n",
        "        print(f\"{numero}: {frecuencia}\")\n",
        "\n",
        "if __name__ == \"__main__\":\n",
        "    main()"
      ],
      "metadata": {
        "colab": {
          "base_uri": "https://localhost:8080/"
        },
        "id": "G8G78dCAWppo",
        "outputId": "c31fc866-7d28-40df-8dce-c3f4e40cc122"
      },
      "execution_count": null,
      "outputs": [
        {
          "output_type": "stream",
          "name": "stdout",
          "text": [
            "Introduce una serie de numeros separados por espacios:3 4 4 3 5 \n",
            "Frecuencia de los numeros introducidos:\n",
            "3: 2\n",
            "4: 2\n",
            "5: 1\n"
          ]
        }
      ]
    },
    {
      "cell_type": "code",
      "source": [
        "def convertir_caja_a_unidad(cantidad_caja):\n",
        "  return cantidad_caja * 25\n",
        "\n",
        "def convertir_unidad_a_caja (cantidad_unidad):\n",
        "  return cantidad_unidad / 25\n",
        "\n",
        "def convertir_saco_a_libra(cantidad_saco):\n",
        "  return cantidad_saco * 50\n",
        "\n",
        "def convertir_libra_a_saco(cantidad_libra):\n",
        "  return cantidad_libra / 50\n",
        "\n",
        "def convertir_fardo_a_unidad(cantidad_fardo):\n",
        "  return cantidad_fardo * 5\n",
        "\n",
        "def convertir_unidad_a_fardo(cantidad_unidad):\n",
        "  return cantidad_unidad / 5\n",
        "\n",
        "print( \"\"\"Seleccione una opcion:\n",
        "1. Convertir cajas a unidades\n",
        "2. Convertir unidades a cajas\n",
        "3. Convertir sacos a libras\n",
        "4. Convertir libras a sacos\n",
        "5. Convertir fardos a unidades\n",
        "6. Convertir unidades a fardos \"\"\")\n",
        "\n",
        "opcion = int(input(\"\"\"Seleccione una opcion: \"\"\"))\n",
        "cantidad = float(input(\"\"\"Ingrese la cantidad a converit: \"\"\"))\n",
        "\n",
        "if opcion == 1:\n",
        "  resultado = convertir_caja_a_unidad(cantidad)\n",
        "  print(f\"{cantidad} cajas son equivalentes a {resultado} unidades\")\n",
        "elif opcion == 2:\n",
        "  resultado = convertir_unidad_a_caja(cantidad)\n",
        "  print(f\"{cantidad} unidades son equivalentes a {resultado} cajas\")\n",
        "elif opcion == 3:\n",
        "  resultado = convertir_saco_a_libra(cantidad)\n",
        "  print(f\"{cantidad} sacos son equivalentes a {resultado} libras\")\n",
        "elif opcion == 4:\n",
        "  resultado = convertir_libra_a_saco(cantidad)\n",
        "  print(f\"{cantidad} libras son equivalentes a {resultado} sacos\")\n",
        "elif opcion == 5:\n",
        "  resultado = convertir_fardo_a_unidad(cantidad)\n",
        "  print(f\"{cantidad} fardos son equivalentes a {resultado} unidades\")\n",
        "elif opcion == 6:\n",
        "  resultado = convertir_unidad_a_fardo(cantidad)\n",
        "  print(f\"{cantidad} unidades son equivalentes a {resultado} fardos\")\n",
        "else:\n",
        "  print(\"opcion no valida, por favor seleccione una opcion del 1 al 6.\")"
      ],
      "metadata": {
        "colab": {
          "base_uri": "https://localhost:8080/"
        },
        "id": "C0Ft_E11gwpP",
        "outputId": "603be598-f8bd-4fb9-fcfa-b7a2ca9697ed"
      },
      "execution_count": null,
      "outputs": [
        {
          "output_type": "stream",
          "name": "stdout",
          "text": [
            "Seleccione una opcion:\n",
            "1. Convertir cajas a unidades\n",
            "2. Convertir unidades a cajas\n",
            "3. Convertir sacos a libras\n",
            "4. Convertir libras a sacos\n",
            "5. Convertir fardos a unidades\n",
            "6. Convertir unidades a fardos \n",
            "Seleccione una opcion: 6\n",
            "Ingrese la cantidad a converit: 9\n",
            "9.0 unidades son equivalentes a 1.8 fardos\n"
          ]
        }
      ]
    },
    {
      "cell_type": "markdown",
      "source": [
        "TAREA:   Encontrar de una serie de numeros introducidos por el usuario la varianza\\n\",\n",
        "  Encontrar de una serie de numeros introducidos por el usuario la frecuencuia\\n\",\n",
        "  Escriba un programa que determine si una palabra introducida por el usuario es palindrome. Ejem. Ana, Oso, Oro, Reconocer, etc.\\n\",\n",
        "\n"
      ],
      "metadata": {
        "id": "apFUJckzvfCc"
      }
    },
    {
      "cell_type": "code",
      "source": [
        "def calcular_varianza(numeros):\n",
        "    if len(numeros) == 0:\n",
        "        return 0\n",
        "\n",
        "    media = sum(numeros) / len(numeros)\n",
        "    sumatoria_cuadrados = sum((x - media) ** 2 for x in numeros)\n",
        "    varianza = sumatoria_cuadrados / len(numeros)\n",
        "\n",
        "    return varianza\n",
        "\n",
        "def main():\n",
        "    numeros = input(\"Introduce una serie de números separados por espacios: \")\n",
        "    lista_numeros = list(map(float, numeros.split()))\n",
        "\n",
        "    varianza = calcular_varianza(lista_numeros)\n",
        "    print(f\"La varianza de los números introducidos es: {varianza}\")\n",
        "\n",
        "if __name__ == \"__main__\":\n",
        "    main()"
      ],
      "metadata": {
        "colab": {
          "base_uri": "https://localhost:8080/"
        },
        "id": "JkPmx_MsbWRo",
        "outputId": "2a963c94-5012-4c74-8368-dad5fd505885"
      },
      "execution_count": null,
      "outputs": [
        {
          "output_type": "stream",
          "name": "stdout",
          "text": [
            "Introduce una serie de números separados por espacios: \n",
            "La varianza de los números introducidos es: 0\n"
          ]
        }
      ]
    },
    {
      "cell_type": "code",
      "source": [
        "\n",
        "def calcular_frecuencia(numeros):\n",
        "    frecuencia = {}\n",
        "    for numero in numeros:\n",
        "        if numero in frecuencia:\n",
        "            frecuencia[numero] += 1\n",
        "        else:\n",
        "            frecuencia[numero] = 1\n",
        "    return frecuencia\n",
        "\n",
        "def main():\n",
        "    numeros = input(\"Introduce una serie de numeros separados por espacios:\")\n",
        "    lista_numeros = list(map(int, numeros.split()))\n",
        "    frecuencia = calcular_frecuencia(lista_numeros)\n",
        "    print(\"Frecuencia de los numeros introducidos:\")\n",
        "    for numero, frecuencia in frecuencia.items():\n",
        "        print(f\"{numero}: {frecuencia}\")\n",
        "\n",
        "if __name__ == \"__main__\":\n",
        "    main()\n"
      ],
      "metadata": {
        "colab": {
          "base_uri": "https://localhost:8080/"
        },
        "id": "cYseiY-4bncC",
        "outputId": "29c517c9-5b00-45a8-bb6b-14d3ad008d19"
      },
      "execution_count": null,
      "outputs": [
        {
          "output_type": "stream",
          "name": "stdout",
          "text": [
            "Introduce una serie de numeros separados por espacios:3 4 5\n",
            "Frecuencia de los numeros introducidos:\n",
            "3: 1\n",
            "4: 1\n",
            "5: 1\n"
          ]
        }
      ]
    },
    {
      "cell_type": "code",
      "source": [
        "def es_polindrome(palabra):\n",
        "    palabra = palabra.lower()\n",
        "    palabra_invertida = palabra[:: -1]\n",
        "    return palabra == palabra_invertida\n",
        "def main():\n",
        "    palabra = input(\"Introduce una palabra:\")\n",
        "    if es_polindrome(palabra):\n",
        "        print(f\"{palabra} es un polindrome.\")\n",
        "    else:\n",
        "        print(f\"{palabra} no es un polindrome.\")\n",
        "if __name__ == \"__main__\":\n",
        "    main()"
      ],
      "metadata": {
        "colab": {
          "base_uri": "https://localhost:8080/"
        },
        "id": "cD6ggYOabu1u",
        "outputId": "88844632-e094-4bae-80de-0bff91872071"
      },
      "execution_count": null,
      "outputs": [
        {
          "output_type": "stream",
          "name": "stdout",
          "text": [
            "Introduce una palabra:avion\n",
            "avion no es un polindrome.\n"
          ]
        }
      ]
    },
    {
      "cell_type": "markdown",
      "source": [
        "Parcial de progra 3 Desarrolle el conversor de Área Superficie Desarrolle el conversor de Área (Superficie) haciendo uso de los\n",
        "diccionarios y las funciones de usuario en Python que contenga las\n",
        "siguientes opciones:\n",
        " Pie Cuadrado\n",
        " Vara Cuadrada\n",
        " Yarda Cuadrada\n",
        " Metro Cuadrado\n",
        " Tareas\n",
        " Manzana\n",
        " Hectárea"
      ],
      "metadata": {
        "id": "QvKUHNRigRnE"
      }
    },
    {
      "cell_type": "code",
      "source": [
        "conversiones = {\n",
        "    'pie cuadrado': 0.092903,\n",
        "    'vara cuadrada': 0.69984,\n",
        "    'yarda cuadrada': 0.836127,\n",
        "    'metro cuadrado': 1,\n",
        "    'tarea': 628.86,\n",
        "    'manzana': 7000,\n",
        "    'hectárea': 10000\n",
        "}\n",
        "\n",
        "def convertir_area(valor, unidad_origen, unidad_destino):\n",
        "    valor_metros_cuadrados = valor * conversiones[unidad_origen]\n",
        "    valor_convertido = valor_metros_cuadrados / conversiones[unidad_destino]\n",
        "    return valor_convertido\n",
        "\n",
        "def mostrar_menu():\n",
        "    print(\"Selecciona la unidad de medida de superficie:\")\n",
        "    for i, unidad in enumerate(conversiones.keys(), start=1):\n",
        "        print(f\"{i}. {unidad.capitalize()}\")\n",
        "\n",
        "def main():\n",
        "    mostrar_menu()\n",
        "    try:\n",
        "        opcion_origen = int(input(\"Selecciona la unidad de origen (número): \")) - 1\n",
        "        opcion_destino = int(input(\"Selecciona la unidad de destino (número): \")) - 1\n",
        "\n",
        "        if opcion_origen < 0 or opcion_origen >= len(conversiones):\n",
        "            print(\"Opción de unidad de origen no válida.\")\n",
        "            return\n",
        "        if opcion_destino < 0 or opcion_destino >= len(conversiones):\n",
        "            print(\"Opción de unidad de destino no válida.\")\n"
      ],
      "metadata": {
        "colab": {
          "base_uri": "https://localhost:8080/",
          "height": 106
        },
        "id": "QMDyhoKvpKKx",
        "outputId": "f16d0948-9dec-45dc-cebd-541369ffae7c"
      },
      "execution_count": 29,
      "outputs": [
        {
          "output_type": "error",
          "ename": "SyntaxError",
          "evalue": "incomplete input (<ipython-input-29-8d0ae57cd7f3>, line 31)",
          "traceback": [
            "\u001b[0;36m  File \u001b[0;32m\"<ipython-input-29-8d0ae57cd7f3>\"\u001b[0;36m, line \u001b[0;32m31\u001b[0m\n\u001b[0;31m    print(\"Opción de unidad de destino no válida.\")\u001b[0m\n\u001b[0m                                                   ^\u001b[0m\n\u001b[0;31mSyntaxError\u001b[0m\u001b[0;31m:\u001b[0m incomplete input\n"
          ]
        }
      ]
    },
    {
      "cell_type": "markdown",
      "source": [
        "Desarrolle un programa en Python que simule a un cajero automático.\n",
        "Haga uso de las estructuras de control. (\n",
        "Eje. Ingrese la cantidad a retirar: 199.89\n",
        "9 billetes de a 20\n",
        "1 billete de a 10\n",
        "1 billete de a 5\n",
        "4 billetes de a 1\n",
        "3 monedas de 0.25 ctvs.\n"
      ],
      "metadata": {
        "id": "62X5DYOJzB5q"
      }
    },
    {
      "cell_type": "code",
      "source": [
        "def descomponer_monto(monto):\n",
        "    billetes = [20, 10, 5, 1]\n",
        "    monedas = [0.25, 0.10, 0.01]\n",
        "\n",
        "    resultado_billetes = {}\n",
        "    resultado_monedas = {}\n",
        "\n",
        "    for billete in billetes:\n",
        "        cantidad_billetes = int(monto // billete)\n",
        "        if cantidad_billetes > 0:\n",
        "            resultado_billetes[billete] = cantidad_billetes\n",
        "            monto -= cantidad_billetes * billete\n",
        "\n",
        "    for moneda in monedas:\n",
        "        cantidad_monedas = int(round(monto / moneda))\n",
        "        if cantidad_monedas > 0:\n",
        "            resultado_monedas[moneda] = cantidad_monedas\n",
        "            monto -= cantidad_monedas * moneda\n",
        "            monto = round(monto, 2)\n",
        "\n",
        "    return resultado_billetes, resultado_monedas\n",
        "\n",
        "def mostrar_resultado(resultado_billetes, resultado_monedas):\n",
        "    print(\"Billetes:\")\n",
        "    for billete, cantidad in resultado_billetes.items():\n",
        "        print(f\"{cantidad} billete(s) de ${billete}\")\n",
        "\n",
        "    print(\"Monedas:\")\n",
        "    for moneda, cantidad in resultado_monedas.items():\n",
        "        print(f\"{cantidad} moneda(s) de ${moneda:.2f}\")\n",
        "\n",
        "def main():\n",
        "    try:\n",
        "        monto = float(input(\"Ingrese la cantidad a retirar: \"))\n",
        "        if monto <= 0:\n",
        "            print(\"La cantidad debe ser mayor a 0.\")\n",
        "            return\n",
        "\n",
        "        resultado_billetes, resultado_monedas = descomponer_monto(monto)\n",
        "\n",
        "        mostrar_resultado(resultado_billetes, resultado_monedas)\n",
        "\n",
        "    except ValueError:\n",
        "        print(\"Por favor, ingrese un valor numérico válido.\")\n",
        "\n",
        "if _name_ == \"_main_\":\n",
        "    main()"
      ],
      "metadata": {
        "id": "zatTj-bXzN2U"
      },
      "execution_count": null,
      "outputs": []
    }
  ]
}